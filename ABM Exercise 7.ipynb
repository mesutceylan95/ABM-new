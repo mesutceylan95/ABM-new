{
 "cells": [
  {
   "cell_type": "markdown",
   "metadata": {},
   "source": [
    "# Exercise 2: Self Organized Criticality\n",
    "\n",
    "Mesut Cylan (18-748-012), Syed Shahvaiz Ahmed (18-756-635)\n",
    "MOEC0559 Agent-based modeling for Business, Economics, Informatics and Social Science\n",
    "Faculty of Business, Economics and Informatics\n",
    "29.04.2019"
   ]
  },
  {
   "cell_type": "markdown",
   "metadata": {},
   "source": [
    "# Modules"
   ]
  },
  {
   "cell_type": "code",
   "execution_count": 19,
   "metadata": {},
   "outputs": [],
   "source": [
    "import numpy as np\n",
    "import matplotlib.pyplot as plt\n",
    "from matplotlib import animation, rc\n",
    "from matplotlib import colors\n",
    "from IPython.display import HTML\n",
    "import networkx as nx"
   ]
  },
  {
   "cell_type": "markdown",
   "metadata": {},
   "source": [
    "# Task 1: Forest Fire Model"
   ]
  },
  {
   "cell_type": "markdown",
   "metadata": {},
   "source": [
    "Moore Neighbourhood: System Size: L = 100, f = 0.001, tmax = 1000"
   ]
  },
  {
   "cell_type": "code",
   "execution_count": 44,
   "metadata": {},
   "outputs": [
    {
     "name": "stdout",
     "output_type": "stream",
     "text": [
      "[12, 19, 24, 25, 36, 57, 61, 66, 67, 100, 103, 107, 110, 116, 117, 123, 124, 161, 179, 194, 202, 203, 206, 219, 225, 235, 239, 240, 241, 243, 250, 251, 252, 261, 263, 265, 275, 276, 292, 314, 316, 320, 321, 323, 345, 346, 351, 352, 353, 357, 372, 377, 388, 402, 407, 425, 427, 432, 452, 459, 464, 471, 473, 477, 480, 483, 491, 503, 508, 527, 528, 534, 536, 540, 546, 552, 554, 556, 557, 570, 575, 578, 599, 601, 608, 614, 624, 626, 632, 641, 643, 644, 647, 649, 652, 663, 681, 682, 685, 696, 700, 718, 720, 733, 754, 760, 765, 766, 775, 795, 809, 810, 812, 818, 823, 827, 828, 829, 831, 832, 857, 859, 861, 863, 881, 884, 887, 888, 889, 890, 898, 925, 930, 932, 943, 966, 967, 969, 979, 990, 995, 1003, 1005, 1007, 1013, 1016, 1017, 1031, 1041, 1043, 1046, 1050, 1061, 1062, 1071, 1075, 1080, 1090, 1091, 1096, 1103, 1106, 1107, 1112, 1118, 1122, 1127, 1128, 1130, 1136, 1138, 1139, 1156, 1158, 1159, 1163, 1164, 1168, 1173, 1183, 1185, 1186, 1192, 1194, 1208, 1214, 1217, 1220, 1228, 1234, 1238, 1240, 1248, 1249, 1255, 1256, 1263, 1277, 1281, 1285, 1296, 1302, 1315, 1316, 1319, 1326, 1328, 1331, 1337, 1339, 1340, 1341, 1347, 1350, 1354, 1375, 1400, 1405, 1411, 1413, 1415, 1424, 1436, 1443, 1446, 1448, 1456, 1458, 1461, 1464, 1472, 1482, 1486, 1488, 1490, 1495, 1497, 1498, 1504, 1507, 1515, 1519, 1539, 1547, 1548, 1551, 1553, 1558, 1559, 1561, 1577, 1580, 1583, 1585, 1588, 1595, 1596, 1614, 1615, 1617, 1620, 1628, 1638, 1644, 1646, 1656, 1672, 1675, 1678, 1683, 1685, 1686, 1691, 1693, 1698, 1703, 1704, 1711, 1718, 1720, 1723, 1728, 1735, 1736, 1737, 1740, 1743, 1747, 1750, 1753, 1754, 1756, 1771, 1788, 1789, 1793, 1796, 1808, 1816, 1823, 1829, 1832, 1840, 1846, 1848, 1849, 1850, 1854, 1861, 1864, 1872, 1875, 1876, 1881, 1889, 1891, 1892, 1903, 1912, 1914, 1915, 1916, 1921, 1933, 1945, 1954, 1959, 1969, 1976, 1979, 1986, 1998, 2002, 2007, 2012, 2018, 2033, 2047, 2051, 2057, 2069, 2075, 2087, 2092, 2095, 2107, 2130, 2140, 2143, 2146, 2149, 2155, 2162, 2169, 2178, 2188, 2192, 2201, 2204, 2205, 2207, 2210, 2211, 2213, 2215, 2241, 2251, 2256, 2257, 2268, 2274, 2289, 2290, 2306]\n"
     ]
    },
    {
     "data": {
      "image/png": "[encoded data removed]",
      "text/plain": [
       "<Figure size 600x450 with 1 Axes>"
      ]
     },
     "metadata": {
      "needs_background": "light"
     },
     "output_type": "display_data"
    }
   ],
   "source": [
    "# Displacements from a cell to its eight nearest neighbours\n",
    "nodes = 100\n",
    "neighbourhood = ((-1,-1), (-1,0), (-1,1), (0,-1), (0, 1), (1,-1), (1,0), (1,1))\n",
    "EMPTY, TREE, FIRE = 0, 1, 2\n",
    "# Colours for visualization: brown for EMPTY, dark green for TREE and orange\n",
    "# for FIRE. Note that for the colormap to work, this list and the bounds list\n",
    "# must be one larger than the number of different values in the array.\n",
    "colors_list = [(0.2,0,0), (0,0.5,0), (1,0,0), 'orange']\n",
    "cmap = colors.ListedColormap(colors_list)\n",
    "bounds = [0,1,2,3]\n",
    "norm = colors.BoundaryNorm(bounds, cmap.N)\n",
    "\n",
    "def iterate(X):\n",
    "    \"\"\"Iterate the forest according to the forest-fire rules.\"\"\"\n",
    "\n",
    "    # The boundary of the forest is always empty, so only consider cells\n",
    "    # indexed from 1 to nx-2, 1 to ny-2\n",
    "    X1 = np.zeros((ny, nx))\n",
    "    count_list = []\n",
    "    count_tree = 0 \n",
    "    for ix in range(1,nx-1):\n",
    "        for iy in range(1,ny-1):\n",
    "            if X[iy,ix] == EMPTY and np.random.random() <= p:\n",
    "                X1[iy,ix] = TREE\n",
    "                count_tree+=1\n",
    "                count_list.append(count_tree)\n",
    "            if X[iy,ix] == TREE:\n",
    "                X1[iy,ix] = TREE\n",
    "                count_tree+=1\n",
    "            for dx,dy in neighbourhood:\n",
    "                    if X[iy+dy,ix+dx] == FIRE:\n",
    "                        X1[iy,ix] = FIRE\n",
    "                        break\n",
    "                    else:\n",
    "                        if np.random.random() <= f:\n",
    "                            X1[iy,ix] = FIRE\n",
    "    return count_list\n",
    "\n",
    "# The initial fraction of the forest occupied by trees.\n",
    "forest_fraction = 0.2\n",
    "# Probability of new tree growth per empty cell, and of lightning strike.\n",
    "p, f = 0.05, 0.001\n",
    "# Forest size (number of cells in x and y directions).\n",
    "nx, ny = 100, 100\n",
    "# Initialize the forest grid.\n",
    "X  = np.zeros((ny, nx))\n",
    "X[1:ny-1, 1:nx-1] = np.random.randint(0, 2, size=(ny-2, nx-2))\n",
    "X[1:ny-1, 1:nx-1] = np.random.random(size=(ny-2, nx-2)) < forest_fraction\n",
    "\n",
    "print(iterate(X))\n",
    "fig = plt.figure(figsize=(25/3, 6.25))\n",
    "ax = fig.add_subplot(111)\n",
    "# ax.set_axis_off()\n",
    "# im = ax.imshow(X, cmap=cmap, norm=norm)#, interpolation='nearest')\n",
    "\n",
    "# The animation function: called to produce a frame for each generation.\n",
    "# def animate(i):\n",
    "#     im.set_data(animate.X)\n",
    "#     animate.X = iterate(animate.X)\n",
    "# # Bind our grid to the identifier X in the animate function's namespace.\n",
    "# animate.X = X\n",
    "\n",
    "# Interval betw  een frames (ms).\n",
    "# interval = 100\n",
    "# anim = animation.FuncAnimation(fig, animate, interval=interval)\n",
    "# plt.show()"
   ]
  },
  {
   "cell_type": "code",
   "execution_count": 25,
   "metadata": {},
   "outputs": [
    {
     "ename": "ValueError",
     "evalue": "sequence too large; cannot be greater than 32",
     "output_type": "error",
     "traceback": [
      "\u001b[1;31m---------------------------------------------------------------------------\u001b[0m",
      "\u001b[1;31mValueError\u001b[0m                                Traceback (most recent call last)",
      "\u001b[1;32m<ipython-input-25-57f7f48da0f9>\u001b[0m in \u001b[0;36m<module>\u001b[1;34m\u001b[0m\n\u001b[0;32m      1\u001b[0m \u001b[0mnodes\u001b[0m \u001b[1;33m=\u001b[0m \u001b[1;36m100\u001b[0m\u001b[1;33m\u001b[0m\u001b[0m\n\u001b[1;32m----> 2\u001b[1;33m \u001b[0mJ\u001b[0m \u001b[1;33m=\u001b[0m \u001b[0mnp\u001b[0m\u001b[1;33m.\u001b[0m\u001b[0mzeros\u001b[0m\u001b[1;33m(\u001b[0m\u001b[0mnx\u001b[0m\u001b[1;33m.\u001b[0m\u001b[0mgrid_2d_graph\u001b[0m\u001b[1;33m(\u001b[0m\u001b[0mint\u001b[0m\u001b[1;33m(\u001b[0m\u001b[0mnodes\u001b[0m\u001b[1;33m**\u001b[0m\u001b[1;36m0.5\u001b[0m\u001b[1;33m)\u001b[0m\u001b[1;33m,\u001b[0m\u001b[0mint\u001b[0m\u001b[1;33m(\u001b[0m\u001b[0mnodes\u001b[0m\u001b[1;33m**\u001b[0m\u001b[1;36m0.5\u001b[0m\u001b[1;33m)\u001b[0m\u001b[1;33m,\u001b[0m \u001b[0mperiodic\u001b[0m\u001b[1;33m=\u001b[0m\u001b[1;32mTrue\u001b[0m\u001b[1;33m)\u001b[0m\u001b[1;33m)\u001b[0m\u001b[1;33m\u001b[0m\u001b[0m\n\u001b[0m\u001b[0;32m      3\u001b[0m \u001b[0mK\u001b[0m \u001b[1;33m=\u001b[0m \u001b[0mlist\u001b[0m\u001b[1;33m(\u001b[0m\u001b[0mJ\u001b[0m\u001b[1;33m.\u001b[0m\u001b[0mnodes\u001b[0m\u001b[1;33m)\u001b[0m\u001b[1;33m\u001b[0m\u001b[0m\n\u001b[0;32m      4\u001b[0m \u001b[0mprint\u001b[0m\u001b[1;33m(\u001b[0m\u001b[0mK\u001b[0m\u001b[1;33m)\u001b[0m\u001b[1;33m\u001b[0m\u001b[0m\n",
      "\u001b[1;31mValueError\u001b[0m: sequence too large; cannot be greater than 32"
     ]
    }
   ],
   "source": [
    "nodes = 100\n",
    "J = nx.grid_2d_graph(int(nodes**0.5),int(nodes**0.5), periodic=True)\n",
    "K = list(J.nodes)\n",
    "print(K)"
   ]
  },
  {
   "cell_type": "code",
   "execution_count": 24,
   "metadata": {},
   "outputs": [
    {
     "name": "stdout",
     "output_type": "stream",
     "text": [
      "[[0. 0. 0. ... 0. 0. 0.]\n",
      " [0. 0. 0. ... 0. 0. 0.]\n",
      " [0. 0. 0. ... 0. 0. 0.]\n",
      " ...\n",
      " [0. 0. 0. ... 0. 0. 0.]\n",
      " [0. 0. 0. ... 0. 0. 0.]\n",
      " [0. 0. 0. ... 0. 0. 0.]]\n"
     ]
    }
   ],
   "source": []
  },
  {
   "cell_type": "code",
   "execution_count": null,
   "metadata": {},
   "outputs": [],
   "source": []
  }
 ],
 "metadata": {
  "kernelspec": {
   "display_name": "Python 3",
   "language": "python",
   "name": "python3"
  },
  "language_info": {
   "codemirror_mode": {
    "name": "ipython",
    "version": 3
   },
   "file_extension": ".py",
   "mimetype": "text/x-python",
   "name": "python",
   "nbconvert_exporter": "python",
   "pygments_lexer": "ipython3",
   "version": "3.6.6"
  }
 },
 "nbformat": 4,
 "nbformat_minor": 2
}
